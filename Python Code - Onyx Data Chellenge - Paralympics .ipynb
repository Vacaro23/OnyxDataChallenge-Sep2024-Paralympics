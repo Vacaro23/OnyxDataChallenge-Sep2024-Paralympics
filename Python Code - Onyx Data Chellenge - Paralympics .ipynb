{
 "cells": [
  {
   "cell_type": "code",
   "execution_count": 1,
   "id": "3a326a4e-41ad-4d5f-bcb5-8f059e76ae97",
   "metadata": {},
   "outputs": [],
   "source": [
    "import pandas as pd\n",
    "import numpy as np"
   ]
  },
  {
   "cell_type": "code",
   "execution_count": null,
   "id": "b252e9c4-6546-46f4-b8d8-fdf66c55d4a5",
   "metadata": {},
   "outputs": [],
   "source": []
  },
  {
   "cell_type": "code",
   "execution_count": 2,
   "id": "ca45772a-ab17-4e46-a447-09d2a6ea0602",
   "metadata": {},
   "outputs": [],
   "source": [
    "medal_standings_path = r\"C:\\Users\\U6079006\\Desktop\\PowerBI Projects\\Onyx Project\\September\\medal_standings.xlsx\"\n",
    "medal_athlete_path = r\"C:\\Users\\U6079006\\Desktop\\PowerBI Projects\\Onyx Project\\September\\medal_athlete.xlsx\"\n",
    "\n",
    "# Read the data from both Excel files\n",
    "medal_standings_df = pd.read_excel(medal_standings_path, sheet_name=\"Data\")  # Load all sheets to inspect\n",
    "medal_athlete_df = pd.read_excel(medal_athlete_path, sheet_name=\"Data\")      # Load all sheets to inspect"
   ]
  },
  {
   "cell_type": "code",
   "execution_count": 3,
   "id": "b6a1b5e6-73b3-4b46-acb1-294f8e26464f",
   "metadata": {},
   "outputs": [
    {
     "name": "stdout",
     "output_type": "stream",
     "text": [
      "(2346, 18)\n",
      "(29170, 27)\n"
     ]
    }
   ],
   "source": [
    "print(medal_standings_df.shape)\n",
    "print(medal_athlete_df.shape)"
   ]
  },
  {
   "cell_type": "markdown",
   "id": "064f4dc6-2aba-431c-bc38-cbf87c34f8cb",
   "metadata": {},
   "source": [
    "### Function to clean and preprocess the data"
   ]
  },
  {
   "cell_type": "code",
   "execution_count": 4,
   "id": "38cefb14-2279-4695-98ca-89ca56f6c832",
   "metadata": {},
   "outputs": [],
   "source": [
    "# 1. Handling Missing Values\n",
    "# Fill missing sports with \"Overall\" if rank_type is \"Overall\", otherwise retain as NaN\n",
    "medal_standings_df['sport'].fillna('Overall', inplace=True)\n",
    " \n",
    "# Fill missing numeric columns with 0 where it makes sense\n",
    "numeric_cols = ['npc_gold', 'npc_silver', 'npc_bronze']\n",
    "medal_standings_df[numeric_cols] = medal_standings_df[numeric_cols].fillna(0)\n",
    " \n",
    "    \n",
    "    \n",
    "# 2. Standardizing Text Formats\n",
    "# Standardize country and athlete names by removing extra spaces and fixing capitalization\n",
    "medal_standings_df['npc_name'] = medal_standings_df['npc_name'].str.strip().str.title()\n",
    "medal_athlete_df['npc_name'] = medal_athlete_df['npc_name'].str.strip().str.title()\n",
    "medal_athlete_df['athlete_name'] = medal_athlete_df['athlete_name'].str.strip().str.title()\n",
    "\n",
    "\n",
    "\n",
    "# Overall Sport_code\n",
    "medal_standings_df['sport_code'].replace('', 'Overall', inplace=True)\n",
    "medal_standings_df['sport_code'].fillna('Overall', inplace=True)\n",
    "\n",
    "\n",
    "# Remove Duplicates\n",
    "medal_athlete_df = medal_athlete_df.drop_duplicates()\n",
    "medal_standings_df = medal_standings_df.drop_duplicates()\n",
    " \n",
    "# Convert 'medal' column to title case (Gold, Silver, Bronze)\n",
    "medal_athlete_df['medal'] = medal_athlete_df['medal'].str.title()\n",
    " \n",
    "# 3. Datetime Conversion\n",
    "# Convert 'games_start' and 'games_end' to datetime format\n",
    "medal_standings_df['games_start'] = pd.to_datetime(medal_standings_df['games_start'] + ' ' + medal_standings_df['games_year'].astype(str), errors='coerce')\n",
    "medal_standings_df['games_end'] = pd.to_datetime(medal_standings_df['games_end'] + ' ' + medal_standings_df['games_year'].astype(str), errors='coerce')\n",
    " \n",
    "    \n",
    "# 4. Feature Engineering\n",
    "# Calculate total medals\n",
    "medal_standings_df['npc_total_medals'] = medal_standings_df[['npc_gold', 'npc_silver', 'npc_bronze']].sum(axis=1)\n",
    " \n",
    "# Calculate medals per athlete\n",
    "medal_athlete_df['medals_per_athlete'] = medal_athlete_df.groupby('athlete_name')['medal'].transform('count')\n",
    " \n",
    "# Calculate games duration in days\n",
    "medal_standings_df['games_duration'] = (medal_standings_df['games_end'] - medal_standings_df['games_start']).dt.days\n",
    " \n",
    "# Medal density (medals per day of games) for each country\n",
    "medal_standings_df['medal_density'] = medal_standings_df['npc_total_medals'] / medal_standings_df['games_duration']\n",
    " \n",
    "# Flag if a country is top-performing (more than 10 medals)\n",
    "medal_standings_df['is_top_performer'] = medal_standings_df['npc_total_medals'] > 10\n",
    " \n",
    "    \n",
    "    \n",
    "# 5. Data Enrichment\n",
    "# Map continents to countries for consistency, handle exceptions\n",
    "continent_map = {\n",
    "    \"Europe[a]\": \"Europe\",\n",
    "    \"Oceania\": \"Oceania\",\n",
    "    \"Americas\": \"Americas\",\n",
    "    \"Asia\": \"Asia\",\n",
    "    \"Africa\": \"Africa\"\n",
    "}\n",
    "medal_standings_df['games_continent'] = medal_standings_df['games_continent'].map(continent_map)\n",
    " \n",
    "\n",
    "# 6. Additional Calculations\n",
    "# Create a binary column to indicate whether the country is the host\n",
    "medal_standings_df['is_host_country'] = medal_standings_df['games_country'].eq(medal_standings_df['npc_name'])"
   ]
  },
  {
   "cell_type": "code",
   "execution_count": 5,
   "id": "456fbfb5-8e4d-4cbb-9720-4a404a3347bf",
   "metadata": {},
   "outputs": [
    {
     "name": "stdout",
     "output_type": "stream",
     "text": [
      "(2346, 23)\n",
      "(2346, 23)\n"
     ]
    }
   ],
   "source": [
    "print(medal_standings_df.shape)\n",
    "\n",
    "medal_athlete_df = medal_athlete_df[medal_athlete_df[\"npc_new\"] != \"NA\"]\n",
    "medal_athlete_df = medal_athlete_df[medal_athlete_df[\"npc_new\"] != np.nan]\n",
    "\n",
    "print(medal_standings_df.shape)"
   ]
  },
  {
   "cell_type": "code",
   "execution_count": 6,
   "id": "8fde9b95-02b0-4cbf-bad0-463aa6d47202",
   "metadata": {},
   "outputs": [
    {
     "data": {
      "text/plain": [
       "United States     3059\n",
       "Germany           2334\n",
       "United Kingdom    2174\n",
       "Canada            1538\n",
       "France            1519\n",
       "                  ... \n",
       "Sudan                1\n",
       "Liechtenstein        1\n",
       "Cape Verde           1\n",
       "Rwanda               1\n",
       "Chile                1\n",
       "Name: npc_name, Length: 115, dtype: int64"
      ]
     },
     "execution_count": 6,
     "metadata": {},
     "output_type": "execute_result"
    }
   ],
   "source": [
    "medal_athlete_df[\"npc_name\"].value_counts()"
   ]
  },
  {
   "cell_type": "code",
   "execution_count": 7,
   "id": "4ce8bc44-4fcd-4da6-b7d7-11e24c7b74db",
   "metadata": {},
   "outputs": [
    {
     "name": "stdout",
     "output_type": "stream",
     "text": [
      "(2346, 23)\n",
      "(28906, 28)\n"
     ]
    }
   ],
   "source": [
    "print(medal_standings_df.shape)\n",
    "print(medal_athlete_df.shape)"
   ]
  },
  {
   "cell_type": "code",
   "execution_count": 8,
   "id": "316af22b-03b9-4f54-9110-c2145e301a85",
   "metadata": {},
   "outputs": [],
   "source": [
    "medal_athlete_df[\"games_code-games_season-sport-npc\"] = medal_athlete_df[\"games_code\"] + \"-\" + medal_athlete_df[\"games_season\"] + \"-\" + medal_athlete_df[\"sport\"] + \"-\" + medal_athlete_df[\"npc\"]\n",
    "medal_standings_df[\"games_code-games_season-sport-npc\"] = medal_standings_df[\"games_code\"] + \"-\" + medal_standings_df[\"games_season\"] + \"-\" + medal_standings_df[\"sport\"]+ \"-\" + medal_standings_df[\"npc\"]"
   ]
  },
  {
   "cell_type": "code",
   "execution_count": null,
   "id": "cd17ba06-89aa-473c-86a1-e18d39bd22c0",
   "metadata": {},
   "outputs": [],
   "source": []
  },
  {
   "cell_type": "code",
   "execution_count": 9,
   "id": "5031e118-fa7c-4380-870e-82666e469440",
   "metadata": {},
   "outputs": [
    {
     "data": {
      "text/plain": [
       "(Index(['games_code', 'games_year', 'games_city', 'City_latitude',\n",
       "        'City_longitude', 'games_country', 'Country_latitude',\n",
       "        'Country_longitude', 'games_continent', 'games_start', 'games_end',\n",
       "        'games_season', 'sport', 'sport_code', 'event_venue', 'events', 'npcs',\n",
       "        'athletes', 'event', 'medal', 'npc', 'npc_new', 'npc_name',\n",
       "        'npc_name_latitude', 'npc_name_longitude', 'athlete_name',\n",
       "        'athlete_info_og', 'medals_per_athlete',\n",
       "        'games_code-games_season-sport-npc'],\n",
       "       dtype='object'),\n",
       " Index(['games_code', 'games_year', 'games_city', 'games_country',\n",
       "        'games_continent', 'games_start', 'games_end', 'games_season', 'npc',\n",
       "        'npc_new', 'npc_name', 'rank_type', 'npc_rank', 'npc_gold',\n",
       "        'npc_silver', 'npc_bronze', 'sport_code', 'sport', 'npc_total_medals',\n",
       "        'games_duration', 'medal_density', 'is_top_performer',\n",
       "        'is_host_country', 'games_code-games_season-sport-npc'],\n",
       "       dtype='object'))"
      ]
     },
     "execution_count": 9,
     "metadata": {},
     "output_type": "execute_result"
    }
   ],
   "source": [
    "medal_athlete_df.columns,medal_standings_df.columns"
   ]
  },
  {
   "cell_type": "code",
   "execution_count": 10,
   "id": "ab6f21a9-8b1b-475a-b889-e143fdc32af5",
   "metadata": {},
   "outputs": [],
   "source": [
    "medal_athlete_df = medal_athlete_df[['games_code', 'games_season', 'sport', 'sport_code', 'event_venue', 'events', 'npcs',\n",
    "        'athletes', 'event', 'medal', 'npc', 'npc_new', 'npc_name','npc_name_latitude', 'npc_name_longitude', 'athlete_name',\n",
    "        'athlete_info_og', 'medals_per_athlete','games_code-games_season-sport-npc']]"
   ]
  },
  {
   "cell_type": "code",
   "execution_count": 11,
   "id": "5e2e6ce3-edc9-4e23-b0ff-cfed65beb8f5",
   "metadata": {},
   "outputs": [],
   "source": [
    "# Save the cleaned datasets to Excel files\n",
    "medal_standings_df.to_excel(r'C:\\Users\\U6079006\\Desktop\\PowerBI Projects\\Onyx Project\\September\\cleaned_medal_standings_df.xlsx', index=False)\n",
    "medal_athlete_df.to_excel(r'C:\\Users\\U6079006\\Desktop\\PowerBI Projects\\Onyx Project\\September\\cleaned_medal_athlete_df.xlsx', index=False)"
   ]
  },
  {
   "cell_type": "code",
   "execution_count": null,
   "id": "2f8b6ef1-7a72-44d9-b8a4-3be5a893d74b",
   "metadata": {},
   "outputs": [],
   "source": []
  }
 ],
 "metadata": {
  "kernelspec": {
   "display_name": "Python 3 (ipykernel)",
   "language": "python",
   "name": "python3"
  },
  "language_info": {
   "codemirror_mode": {
    "name": "ipython",
    "version": 3
   },
   "file_extension": ".py",
   "mimetype": "text/x-python",
   "name": "python",
   "nbconvert_exporter": "python",
   "pygments_lexer": "ipython3",
   "version": "3.9.12"
  }
 },
 "nbformat": 4,
 "nbformat_minor": 5
}
